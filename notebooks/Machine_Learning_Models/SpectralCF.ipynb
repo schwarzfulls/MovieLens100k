{
 "cells": [
  {
   "cell_type": "markdown",
   "id": "5857ba50-95da-4c59-8dee-fc848b84a29b",
   "metadata": {},
   "source": [
    "- SpectralCF: 強調フィルタリング(CF)，スペクトラルグラフ理論をベースのモデル．user * item間の二部グラフをグラフフーリエ変換で畳み込む(Spectol領域で畳み込む)．\n",
    "\n",
    "- Numpy + 隣接グラフ\n",
    "\n",
    "- 実装手順\n",
    "- Leave-One-Out分割\n",
    "- 隣接行列の作成\n",
    "- スペクトラル畳み込み関数の定義\n",
    "- 畳み込みの初期化と学習\n",
    "- 推薦スコア計算とTop-N推薦\n",
    "- 評価"
   ]
  },
  {
   "cell_type": "code",
   "execution_count": 2,
   "id": "89b0e05f-454d-4f7b-b3dd-413932da8bd3",
   "metadata": {},
   "outputs": [],
   "source": [
    "import numpy as np\n",
    "import pandas as pd\n",
    "from sklearn.preprocessing import LabelEncoder\n",
    "from scipy.sparse import csr_matrix, diags\n",
    "from sklearn.metrics import precision_score, recall_score\n",
    "from tqdm import tqdm\n",
    "\n",
    "\n",
    "# データ読み込み\n",
    "cols = ['user_id', 'item_id', 'rating', 'timestamp']\n",
    "df = pd.read_csv('u.data', sep='\\t', names=cols)\n",
    "df['timestamp'] = pd.to_datetime(df['timestamp'])\n",
    "\n",
    "# Leave-One-Out分割\n",
    "df['rank'] = df.groupby('user_id')['timestamp'].rank(method='first', ascending=False)\n",
    "train_df = df[df['rank'] > 1].copy()\n",
    "test_df = df[df['rank'] == 1].copy()\n",
    "\n",
    "# ラベルエンコード\n",
    "user_enc = LabelEncoder()\n",
    "item_enc = LabelEncoder()\n",
    "train_df['user'] = user_enc.fit_transform(train_df['user_id'])\n",
    "train_df['item'] = item_enc.fit_transform(train_df['item_id'])\n",
    "test_df = test_df[test_df['user_id'].isin(user_enc.classes_)]\n",
    "test_df = test_df[test_df['item_id'].isin(item_enc.classes_)]\n",
    "test_df['user'] = user_enc.transform(test_df['user_id'])\n",
    "test_df['item'] = item_enc.transform(test_df['item_id'])\n",
    "\n",
    "num_users = train_df['user'].nunique()\n",
    "num_items = train_df['item'].nunique()"
   ]
  },
  {
   "cell_type": "code",
   "execution_count": 4,
   "id": "c416169a-c271-4ec1-a3b1-ae2c1cd8a681",
   "metadata": {},
   "outputs": [],
   "source": [
    "# 隣接行列の構築\n",
    "\n",
    "from scipy.sparse import bmat\n",
    "\n",
    "R = csr_matrix((np.ones(len(train_df)), (train_df['user'], train_df['item'])),\n",
    "               shape=(num_users, num_items))\n",
    "\n",
    "A = bmat([\n",
    "    [csr_matrix((num_users, num_users)), R],\n",
    "    [R.T, csr_matrix((num_items, num_items))]\n",
    "], format='csr')"
   ]
  },
  {
   "cell_type": "code",
   "execution_count": 5,
   "id": "2db6d254-d1fd-4c42-90c1-1369a383cf4a",
   "metadata": {},
   "outputs": [],
   "source": [
    "# スペクトラル畳み込み関数の定義\n",
    "\n",
    "def normalized_laplacian(A):\n",
    "    d = np.array(A.sum(axis=1)).flatten()\n",
    "    d_inv_sqrt = 1.0 / np.sqrt(d + 1e-8)\n",
    "    D_inv_sqrt = diags(d_inv_sqrt)\n",
    "    return csr_matrix(np.eye(A.shape[0])) - D_inv_sqrt @ A @ D_inv_sqrt\n",
    "\n",
    "def spectral_conv(L, X, K=3):\n",
    "    Z = X.copy()\n",
    "    out = X.copy()\n",
    "    for k in range(1, K):\n",
    "        Z = L @ Z\n",
    "        out += Z\n",
    "    return out\n"
   ]
  },
  {
   "cell_type": "code",
   "execution_count": 6,
   "id": "cc1c1845-c0fb-4d45-9b82-0e4aa24cbb50",
   "metadata": {},
   "outputs": [],
   "source": [
    "# 埋め込み初期化と学習\n",
    "\n",
    "embedding_dim = 64\n",
    "X_init = np.random.normal(0, 0.1, size=(num_users + num_items, embedding_dim))\n",
    "L = normalized_laplacian(A)\n",
    "Z = spectral_conv(L, X_init, K=3)\n",
    "\n",
    "user_emb = Z[:num_users]\n",
    "item_emb = Z[num_users:]\n"
   ]
  },
  {
   "cell_type": "code",
   "execution_count": 8,
   "id": "5f682f7d-23d7-4e13-964c-f968360639a6",
   "metadata": {},
   "outputs": [],
   "source": [
    "# 推薦スコア計算とTop-N推薦\n",
    "\n",
    "scores = user_emb @ item_emb.T\n",
    "\n",
    "# 学習済みアイテムを除外\n",
    "X_train = R\n",
    "recommendations = {}\n",
    "top_k = 10\n",
    "\n",
    "for user in range(num_users):\n",
    "    user_scores = scores[user].copy()\n",
    "    seen = X_train[user].indices\n",
    "    user_scores[seen] = -np.inf\n",
    "    top_items = np.argsort(user_scores)[-top_k:][::-1]\n",
    "    recommendations[user] = top_items.tolist()\n",
    "\n",
    "ground_truth = test_df.set_index('user')['item'].to_dict()"
   ]
  },
  {
   "cell_type": "code",
   "execution_count": 9,
   "id": "78e80dd2-4f53-4f64-83ba-3e30c4c63af3",
   "metadata": {},
   "outputs": [
    {
     "name": "stdout",
     "output_type": "stream",
     "text": [
      "=== SpectralCF モデル評価結果（Top-10）===\n",
      "Recall@10    : 0.0032\n",
      "Precision@10 : 0.0003\n",
      "NDCG@10      : 0.0015\n",
      "MRR@10       : 0.0010\n",
      "Hit@10       : 0.0032\n",
      "=== RecBole モデル評価結果（Top-10）===\n",
      "Recall@10    : 0.0527\n",
      "Precision@10 : 0.0608\n",
      "NDCG@10      : 0.0768\n",
      "MRR@10       : 0.1575\n",
      "Hit@10       : 0.3531\n"
     ]
    }
   ],
   "source": [
    "# 評価\n",
    "\n",
    "from Evaluation_index import recall_at_k, precision_at_k, ndcg_at_k, mrr_at_k, hit_at_k\n",
    "\n",
    "print(\"=== SpectralCF モデル評価結果（Top-10）===\")\n",
    "print(f\"Recall@10    : {recall_at_k(recommendations, ground_truth, 10):.4f}\")\n",
    "print(f\"Precision@10 : {precision_at_k(recommendations, ground_truth, 10):.4f}\")\n",
    "print(f\"NDCG@10      : {ndcg_at_k(recommendations, ground_truth, 10):.4f}\")\n",
    "print(f\"MRR@10       : {mrr_at_k(recommendations, ground_truth, 10):.4f}\")\n",
    "print(f\"Hit@10       : {hit_at_k(recommendations, ground_truth, 10):.4f}\")\n",
    "\n",
    "print(\"=== RecBole モデル評価結果（Top-10）===\")\n",
    "print(f\"Recall@10    : 0.0527\")\n",
    "print(f\"Precision@10 : 0.0608\")\n",
    "print(f\"NDCG@10      : 0.0768\")\n",
    "print(f\"MRR@10       : 0.1575\")\n",
    "print(f\"Hit@10       : 0.3531\")\n"
   ]
  },
  {
   "cell_type": "code",
   "execution_count": null,
   "id": "542679fe-9624-4283-863e-1f99a214556c",
   "metadata": {},
   "outputs": [],
   "source": []
  }
 ],
 "metadata": {
  "kernelspec": {
   "display_name": "Python (py310-surprise)",
   "language": "python",
   "name": "py310-surprise"
  },
  "language_info": {
   "codemirror_mode": {
    "name": "ipython",
    "version": 3
   },
   "file_extension": ".py",
   "mimetype": "text/x-python",
   "name": "python",
   "nbconvert_exporter": "python",
   "pygments_lexer": "ipython3",
   "version": "3.10.13"
  }
 },
 "nbformat": 4,
 "nbformat_minor": 5
}
