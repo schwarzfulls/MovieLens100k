{
 "cells": [
  {
   "cell_type": "markdown",
   "id": "fff8e968-def8-4ea6-aa6c-17e6ff0dbe03",
   "metadata": {},
   "source": [
    "- SLIM(Sparse Linear Methods for Top-N Recommendation)\n",
    "- 類似行列を学習する線形リコメンダー\n",
    "\n",
    "- 実装手順\n",
    "- Leave-One-Out分割\n",
    "- 学習用のスパース行列の作成\n",
    "- SLIM-ElasticNetモデルの学習\n",
    "- 推薦の生成\n",
    "- 評価用ground truthの準備\n",
    "- 評価指標の計算\n"
   ]
  },
  {
   "cell_type": "code",
   "execution_count": 11,
   "id": "46ddb8ee-21c3-43cf-b701-5d1c45881a31",
   "metadata": {},
   "outputs": [],
   "source": [
    "import pandas as pd\n",
    "import numpy as np\n",
    "from sklearn.preprocessing import LabelEncoder\n",
    "from sklearn.linear_model import ElasticNet\n",
    "from scipy.sparse import csr_matrix\n",
    "from tqdm import tqdm\n",
    "\n",
    "import warnings\n",
    "from scipy.sparse import SparseEfficiencyWarning\n",
    "\n",
    "# 警告を無視\n",
    "warnings.simplefilter(\"ignore\", SparseEfficiencyWarning)\n",
    "\n",
    "# 1. データ読み込みと前処理\n",
    "cols = ['user_id', 'item_id', 'rating', 'timestamp']\n",
    "df = pd.read_csv('u.data', sep='\\t', names=cols)\n",
    "df['timestamp'] = pd.to_datetime(df['timestamp'])\n",
    "\n",
    "# Leave-One-Out分割\n",
    "df['rank'] = df.groupby('user_id')['timestamp'].rank(method='first', ascending=False)\n",
    "train_df = df[df['rank'] > 1].copy()\n",
    "test_df = df[df['rank'] == 1].copy()\n",
    "\n",
    "# ラベルエンコード\n",
    "user_enc = LabelEncoder()\n",
    "item_enc = LabelEncoder()\n",
    "train_df['user'] = user_enc.fit_transform(train_df['user_id'])\n",
    "train_df['item'] = item_enc.fit_transform(train_df['item_id'])\n",
    "\n",
    "test_df = test_df[test_df['user_id'].isin(user_enc.classes_)]\n",
    "test_df = test_df[test_df['item_id'].isin(item_enc.classes_)]\n",
    "test_df['user'] = user_enc.transform(test_df['user_id'])\n",
    "test_df['item'] = item_enc.transform(test_df['item_id'])\n",
    "\n",
    "num_users = train_df['user'].nunique()\n",
    "num_items = train_df['item'].nunique()"
   ]
  },
  {
   "cell_type": "code",
   "execution_count": 12,
   "id": "bc886101-dccf-4d00-bcbb-8cd0d375a7a7",
   "metadata": {},
   "outputs": [],
   "source": [
    "# 学習用のスパース行列の作成\n",
    "\n",
    "# 2. 学習データをスパース行列に\n",
    "train_df['interaction'] = 1\n",
    "X = csr_matrix((train_df['interaction'], (train_df['user'], train_df['item'])),\n",
    "               shape=(num_users, num_items))\n"
   ]
  },
  {
   "cell_type": "code",
   "execution_count": 13,
   "id": "b6fef81a-05e1-4de0-942c-d8b89cd2dff3",
   "metadata": {
    "scrolled": true
   },
   "outputs": [
    {
     "name": "stderr",
     "output_type": "stream",
     "text": [
      "100%|███████████████████████████████████████████████████████████████████████| 1680/1680 [00:09<00:00, 179.39it/s]\n"
     ]
    }
   ],
   "source": [
    "# SLIM-ElasticNetモデルの学習\n",
    "\n",
    "W = np.zeros((num_items, num_items))  # 類似度行列（アイテム×アイテム）\n",
    "\n",
    "alpha = 1.0  # L1正則化\n",
    "l1_ratio = 0.1  # ElasticNetのバランス (L1:L2)\n",
    "\n",
    "model = ElasticNet(alpha=alpha, l1_ratio=l1_ratio, positive=True, fit_intercept=False, copy_X=False)\n",
    "\n",
    "for i in tqdm(range(num_items)):\n",
    "    y = X[:, i].toarray().ravel()\n",
    "    X_other = X.copy()\n",
    "    X_other[:, i] = 0  # 自己相関を排除\n",
    "    model.fit(X_other, y)\n",
    "    W[i, :] = model.coef_\n"
   ]
  },
  {
   "cell_type": "code",
   "execution_count": 16,
   "id": "8125a28a-5d59-4787-bd23-fe1d7a24baa6",
   "metadata": {
    "scrolled": true
   },
   "outputs": [],
   "source": [
    "# 推薦の生成\n",
    "\n",
    "# スコア計算：X(ユーザ×アイテム) × W(アイテム×アイテム) = 推薦スコア\n",
    "score_matrix = X.dot(W)\n",
    "\n",
    "# 各ユーザーに対して上位10件を推薦\n",
    "top_k = 10\n",
    "recommendations = {}\n",
    "for user in range(num_users):\n",
    "    scores = score_matrix[user]\n",
    "    seen_items = X[user].indices\n",
    "    scores[seen_items] = -np.inf  # 学習済みアイテムを除外\n",
    "    top_items = np.argsort(scores)[-top_k:][::-1]\n",
    "    recommendations[user] = top_items.tolist()\n",
    "\n",
    "# 正解データ\n",
    "ground_truth = test_df.set_index('user')['item'].to_dict()\n"
   ]
  },
  {
   "cell_type": "code",
   "execution_count": 17,
   "id": "9e9f9590-c27c-4fa3-8122-946deddf8fe0",
   "metadata": {},
   "outputs": [
    {
     "name": "stdout",
     "output_type": "stream",
     "text": [
      "=== SLIMElastic モデル評価結果（Top-10）===\n",
      "Recall@10    : 0.0978\n",
      "Precision@10 : 0.0098\n",
      "NDCG@10      : 0.0555\n",
      "MRR@10       : 0.0425\n",
      "Hit@10       : 0.0978\n",
      "=== RecBole モデル評価結果（Top-10）===\n",
      "Recall@10    : 0.2050\n",
      "Precision@10 : 0.1071\n",
      "NDCG@10      : 0.0399\n",
      "MRR@10       : 0.0246\n",
      "Hit@10       : 0.0332\n"
     ]
    }
   ],
   "source": [
    "from Evaluation_index import recall_at_k, precision_at_k, ndcg_at_k, mrr_at_k, hit_at_k\n",
    "\n",
    "k = 10\n",
    "print(\"=== SLIMElastic モデル評価結果（Top-10）===\")\n",
    "print(f\"Recall@{k}    : {recall_at_k(recommendations, ground_truth, k):.4f}\")\n",
    "print(f\"Precision@{k} : {precision_at_k(recommendations, ground_truth, k):.4f}\")\n",
    "print(f\"NDCG@{k}      : {ndcg_at_k(recommendations, ground_truth, k):.4f}\")\n",
    "print(f\"MRR@{k}       : {mrr_at_k(recommendations, ground_truth, k):.4f}\")\n",
    "print(f\"Hit@{k}       : {hit_at_k(recommendations, ground_truth, k):.4f}\")\n",
    "\n",
    "print(\"=== RecBole モデル評価結果（Top-10）===\")\n",
    "print(f\"Recall@10    : {0.2050:.4f}\")\n",
    "print(f\"Precision@10 : {0.1071:.4f}\")\n",
    "print(f\"NDCG@10      : {0.0399:.4f}\")\n",
    "print(f\"MRR@10       : {0.0246:.4f}\")\n",
    "print(f\"Hit@10       : {0.0332:.4f}\")\n"
   ]
  },
  {
   "cell_type": "code",
   "execution_count": null,
   "id": "36bea376-27a1-485f-ad9c-fe62c80cc828",
   "metadata": {},
   "outputs": [],
   "source": []
  }
 ],
 "metadata": {
  "kernelspec": {
   "display_name": "Python (py310-surprise)",
   "language": "python",
   "name": "py310-surprise"
  },
  "language_info": {
   "codemirror_mode": {
    "name": "ipython",
    "version": 3
   },
   "file_extension": ".py",
   "mimetype": "text/x-python",
   "name": "python",
   "nbconvert_exporter": "python",
   "pygments_lexer": "ipython3",
   "version": "3.10.13"
  }
 },
 "nbformat": 4,
 "nbformat_minor": 5
}
