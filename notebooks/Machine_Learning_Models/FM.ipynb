{
 "cells": [
  {
   "cell_type": "markdown",
   "id": "c4151b07-b1d8-4485-8b7d-e96a47a1a23f",
   "metadata": {},
   "source": [
    "- 線形項 + 全2次組み合わせ項を低次元ベクトルで内積表現するモデル\n",
    "- WideDeepに近いが，より高次のパターンにも対応している．\n",
    "\n",
    "$\n",
    "損失関数: \\hat{y} = w_0 + \\sum_i w_i x_i + \\sum_{i < j} \\langle \\mathbf{v}_i, \\mathbf{v}_j \\rangle x_i x_j\n",
    "$\n",
    "\n",
    "- 実装手順\n",
    "- 前処理(Leave-One-Out分割)\n",
    "- 特徴量エンコード(One-Hot-Encoding)\n",
    "- モデル構築\n",
    "- モデル学習\n",
    "- 推薦と評価"
   ]
  },
  {
   "cell_type": "code",
   "execution_count": 17,
   "id": "9a022496-91a5-4f3a-9ea9-f87b0a3eb301",
   "metadata": {},
   "outputs": [
    {
     "name": "stdout",
     "output_type": "stream",
     "text": [
      "ok\n"
     ]
    }
   ],
   "source": [
    "import pandas as pd\n",
    "import numpy as np\n",
    "from sklearn.preprocessing import OneHotEncoder, LabelEncoder\n",
    "from sklearn.model_selection import train_test_split\n",
    "\n",
    "import warnings\n",
    "warnings.filterwarnings('ignore')\n",
    "import os\n",
    "os.environ['TF_CPP_MIN_LOG_LEVEL'] = '3'  # 0:all, 1:filter INFO, 2:filter WARNING, 3:only ERROR\n",
    "\n",
    "# データ読み込み\n",
    "cols = ['user_id', 'item_id', 'rating', 'timestamp']\n",
    "df = pd.read_csv('u.data', sep='\\t', names=cols)\n",
    "\n",
    "# タイムスタンプを日付型に変換（後でLeave-One-Outで使用）\n",
    "df['timestamp'] = pd.to_datetime(df['timestamp'])\n",
    "\n",
    "# Leave-One-Out分割：各ユーザーの最新1件をテスト、それ以前を学習に\n",
    "df['rank'] = df.groupby('user_id')['timestamp'].rank(method='first', ascending=False)\n",
    "train_df = df[df['rank'] > 1].copy()\n",
    "test_df = df[df['rank'] == 1].copy()\n",
    "\n",
    "# ユーザー・アイテムIDの数値化（LabelEncoder）\n",
    "user_enc = LabelEncoder()\n",
    "item_enc = LabelEncoder()\n",
    "\n",
    "train_df['user'] = user_enc.fit_transform(train_df['user_id'])\n",
    "train_df['item'] = item_enc.fit_transform(train_df['item_id'])\n",
    "\n",
    "# テストデータにも変換適用（未知IDは除外）\n",
    "test_df = test_df[test_df['user_id'].isin(user_enc.classes_)]\n",
    "test_df = test_df[test_df['item_id'].isin(item_enc.classes_)]\n",
    "test_df['user'] = user_enc.transform(test_df['user_id'])\n",
    "test_df['item'] = item_enc.transform(test_df['item_id'])\n",
    "\n",
    "# 二値分類に変換（例：rating >= 4 を正例とする）\n",
    "train_df['label'] = (train_df['rating'] >= 4).astype(int)\n",
    "test_df['label'] = (test_df['rating'] >= 4).astype(int)\n",
    "\n",
    "# FM用特徴ベクトル（One-Hot）\n",
    "enc = OneHotEncoder()\n",
    "X_train = enc.fit_transform(train_df[['user', 'item']])  # sparse matrix\n",
    "X_test = enc.transform(test_df[['user', 'item']])        # sparse matrix\n",
    "\n",
    "# ラベル\n",
    "y_train = train_df['label'].values\n",
    "y_test = test_df['label'].values\n",
    "\n",
    "print(\"ok\")"
   ]
  },
  {
   "cell_type": "code",
   "execution_count": 18,
   "id": "76e5eccf-b3e4-489b-9ede-dddf5993f2de",
   "metadata": {},
   "outputs": [
    {
     "data": {
      "text/html": [
       "<pre style=\"white-space:pre;overflow-x:auto;line-height:normal;font-family:Menlo,'DejaVu Sans Mono',consolas,'Courier New',monospace\"><span style=\"font-weight: bold\">Model: \"functional_1\"</span>\n",
       "</pre>\n"
      ],
      "text/plain": [
       "\u001b[1mModel: \"functional_1\"\u001b[0m\n"
      ]
     },
     "metadata": {},
     "output_type": "display_data"
    },
    {
     "data": {
      "text/html": [
       "<pre style=\"white-space:pre;overflow-x:auto;line-height:normal;font-family:Menlo,'DejaVu Sans Mono',consolas,'Courier New',monospace\">┏━━━━━━━━━━━━━━━━━━━━━┳━━━━━━━━━━━━━━━━━━━┳━━━━━━━━━━━━┳━━━━━━━━━━━━━━━━━━━┓\n",
       "┃<span style=\"font-weight: bold\"> Layer (type)        </span>┃<span style=\"font-weight: bold\"> Output Shape      </span>┃<span style=\"font-weight: bold\">    Param # </span>┃<span style=\"font-weight: bold\"> Connected to      </span>┃\n",
       "┡━━━━━━━━━━━━━━━━━━━━━╇━━━━━━━━━━━━━━━━━━━╇━━━━━━━━━━━━╇━━━━━━━━━━━━━━━━━━━┩\n",
       "│ input (<span style=\"color: #0087ff; text-decoration-color: #0087ff\">InputLayer</span>)  │ (<span style=\"color: #00d7ff; text-decoration-color: #00d7ff\">None</span>, <span style=\"color: #00af00; text-decoration-color: #00af00\">2623</span>)      │          <span style=\"color: #00af00; text-decoration-color: #00af00\">0</span> │ -                 │\n",
       "├─────────────────────┼───────────────────┼────────────┼───────────────────┤\n",
       "│ dense_3 (<span style=\"color: #0087ff; text-decoration-color: #0087ff\">Dense</span>)     │ (<span style=\"color: #00d7ff; text-decoration-color: #00d7ff\">None</span>, <span style=\"color: #00af00; text-decoration-color: #00af00\">1</span>)         │      <span style=\"color: #00af00; text-decoration-color: #00af00\">2,624</span> │ input[<span style=\"color: #00af00; text-decoration-color: #00af00\">0</span>][<span style=\"color: #00af00; text-decoration-color: #00af00\">0</span>]       │\n",
       "├─────────────────────┼───────────────────┼────────────┼───────────────────┤\n",
       "│ lambda_1 (<span style=\"color: #0087ff; text-decoration-color: #0087ff\">Lambda</span>)   │ (<span style=\"color: #00d7ff; text-decoration-color: #00d7ff\">None</span>, <span style=\"color: #00af00; text-decoration-color: #00af00\">1</span>)         │          <span style=\"color: #00af00; text-decoration-color: #00af00\">0</span> │ input[<span style=\"color: #00af00; text-decoration-color: #00af00\">0</span>][<span style=\"color: #00af00; text-decoration-color: #00af00\">0</span>]       │\n",
       "├─────────────────────┼───────────────────┼────────────┼───────────────────┤\n",
       "│ add_1 (<span style=\"color: #0087ff; text-decoration-color: #0087ff\">Add</span>)         │ (<span style=\"color: #00d7ff; text-decoration-color: #00d7ff\">None</span>, <span style=\"color: #00af00; text-decoration-color: #00af00\">1</span>)         │          <span style=\"color: #00af00; text-decoration-color: #00af00\">0</span> │ dense_3[<span style=\"color: #00af00; text-decoration-color: #00af00\">0</span>][<span style=\"color: #00af00; text-decoration-color: #00af00\">0</span>],    │\n",
       "│                     │                   │            │ lambda_1[<span style=\"color: #00af00; text-decoration-color: #00af00\">0</span>][<span style=\"color: #00af00; text-decoration-color: #00af00\">0</span>]    │\n",
       "├─────────────────────┼───────────────────┼────────────┼───────────────────┤\n",
       "│ activation_1        │ (<span style=\"color: #00d7ff; text-decoration-color: #00d7ff\">None</span>, <span style=\"color: #00af00; text-decoration-color: #00af00\">1</span>)         │          <span style=\"color: #00af00; text-decoration-color: #00af00\">0</span> │ add_1[<span style=\"color: #00af00; text-decoration-color: #00af00\">0</span>][<span style=\"color: #00af00; text-decoration-color: #00af00\">0</span>]       │\n",
       "│ (<span style=\"color: #0087ff; text-decoration-color: #0087ff\">Activation</span>)        │                   │            │                   │\n",
       "└─────────────────────┴───────────────────┴────────────┴───────────────────┘\n",
       "</pre>\n"
      ],
      "text/plain": [
       "┏━━━━━━━━━━━━━━━━━━━━━┳━━━━━━━━━━━━━━━━━━━┳━━━━━━━━━━━━┳━━━━━━━━━━━━━━━━━━━┓\n",
       "┃\u001b[1m \u001b[0m\u001b[1mLayer (type)       \u001b[0m\u001b[1m \u001b[0m┃\u001b[1m \u001b[0m\u001b[1mOutput Shape     \u001b[0m\u001b[1m \u001b[0m┃\u001b[1m \u001b[0m\u001b[1m   Param #\u001b[0m\u001b[1m \u001b[0m┃\u001b[1m \u001b[0m\u001b[1mConnected to     \u001b[0m\u001b[1m \u001b[0m┃\n",
       "┡━━━━━━━━━━━━━━━━━━━━━╇━━━━━━━━━━━━━━━━━━━╇━━━━━━━━━━━━╇━━━━━━━━━━━━━━━━━━━┩\n",
       "│ input (\u001b[38;5;33mInputLayer\u001b[0m)  │ (\u001b[38;5;45mNone\u001b[0m, \u001b[38;5;34m2623\u001b[0m)      │          \u001b[38;5;34m0\u001b[0m │ -                 │\n",
       "├─────────────────────┼───────────────────┼────────────┼───────────────────┤\n",
       "│ dense_3 (\u001b[38;5;33mDense\u001b[0m)     │ (\u001b[38;5;45mNone\u001b[0m, \u001b[38;5;34m1\u001b[0m)         │      \u001b[38;5;34m2,624\u001b[0m │ input[\u001b[38;5;34m0\u001b[0m][\u001b[38;5;34m0\u001b[0m]       │\n",
       "├─────────────────────┼───────────────────┼────────────┼───────────────────┤\n",
       "│ lambda_1 (\u001b[38;5;33mLambda\u001b[0m)   │ (\u001b[38;5;45mNone\u001b[0m, \u001b[38;5;34m1\u001b[0m)         │          \u001b[38;5;34m0\u001b[0m │ input[\u001b[38;5;34m0\u001b[0m][\u001b[38;5;34m0\u001b[0m]       │\n",
       "├─────────────────────┼───────────────────┼────────────┼───────────────────┤\n",
       "│ add_1 (\u001b[38;5;33mAdd\u001b[0m)         │ (\u001b[38;5;45mNone\u001b[0m, \u001b[38;5;34m1\u001b[0m)         │          \u001b[38;5;34m0\u001b[0m │ dense_3[\u001b[38;5;34m0\u001b[0m][\u001b[38;5;34m0\u001b[0m],    │\n",
       "│                     │                   │            │ lambda_1[\u001b[38;5;34m0\u001b[0m][\u001b[38;5;34m0\u001b[0m]    │\n",
       "├─────────────────────┼───────────────────┼────────────┼───────────────────┤\n",
       "│ activation_1        │ (\u001b[38;5;45mNone\u001b[0m, \u001b[38;5;34m1\u001b[0m)         │          \u001b[38;5;34m0\u001b[0m │ add_1[\u001b[38;5;34m0\u001b[0m][\u001b[38;5;34m0\u001b[0m]       │\n",
       "│ (\u001b[38;5;33mActivation\u001b[0m)        │                   │            │                   │\n",
       "└─────────────────────┴───────────────────┴────────────┴───────────────────┘\n"
      ]
     },
     "metadata": {},
     "output_type": "display_data"
    },
    {
     "data": {
      "text/html": [
       "<pre style=\"white-space:pre;overflow-x:auto;line-height:normal;font-family:Menlo,'DejaVu Sans Mono',consolas,'Courier New',monospace\"><span style=\"font-weight: bold\"> Total params: </span><span style=\"color: #00af00; text-decoration-color: #00af00\">2,624</span> (10.25 KB)\n",
       "</pre>\n"
      ],
      "text/plain": [
       "\u001b[1m Total params: \u001b[0m\u001b[38;5;34m2,624\u001b[0m (10.25 KB)\n"
      ]
     },
     "metadata": {},
     "output_type": "display_data"
    },
    {
     "data": {
      "text/html": [
       "<pre style=\"white-space:pre;overflow-x:auto;line-height:normal;font-family:Menlo,'DejaVu Sans Mono',consolas,'Courier New',monospace\"><span style=\"font-weight: bold\"> Trainable params: </span><span style=\"color: #00af00; text-decoration-color: #00af00\">2,624</span> (10.25 KB)\n",
       "</pre>\n"
      ],
      "text/plain": [
       "\u001b[1m Trainable params: \u001b[0m\u001b[38;5;34m2,624\u001b[0m (10.25 KB)\n"
      ]
     },
     "metadata": {},
     "output_type": "display_data"
    },
    {
     "data": {
      "text/html": [
       "<pre style=\"white-space:pre;overflow-x:auto;line-height:normal;font-family:Menlo,'DejaVu Sans Mono',consolas,'Courier New',monospace\"><span style=\"font-weight: bold\"> Non-trainable params: </span><span style=\"color: #00af00; text-decoration-color: #00af00\">0</span> (0.00 B)\n",
       "</pre>\n"
      ],
      "text/plain": [
       "\u001b[1m Non-trainable params: \u001b[0m\u001b[38;5;34m0\u001b[0m (0.00 B)\n"
      ]
     },
     "metadata": {},
     "output_type": "display_data"
    }
   ],
   "source": [
    "import tensorflow as tf\n",
    "from tensorflow.keras.layers import Input, Dense, Activation, Lambda\n",
    "from tensorflow.keras.models import Model\n",
    "import tensorflow.keras.backend as K\n",
    "\n",
    "input_dim = X_train.shape[1]\n",
    "k = 16  # 潜在次元数\n",
    "\n",
    "# スパース → Dense 変換（明示的に .toarray() しておく）\n",
    "X_train_dense = X_train.toarray()\n",
    "X_test_dense = X_test.toarray()\n",
    "\n",
    "# 入力層（dense）\n",
    "x_input = Input(shape=(input_dim,), name='input')\n",
    "\n",
    "# 線形項\n",
    "linear_output = Dense(1)(x_input)\n",
    "\n",
    "# 埋め込みベクトル V: shape (input_dim, k)\n",
    "V = tf.Variable(tf.random.normal([input_dim, k], stddev=0.01), name='fm_embedding')\n",
    "\n",
    "# LambdaレイヤーでFMの2次項計算\n",
    "def fm_interaction(x):\n",
    "    # x: (batch_size, input_dim)\n",
    "    linear_terms = tf.matmul(x, V)  # (batch_size, k)\n",
    "    square_of_sum = tf.square(tf.reduce_sum(linear_terms, axis=1, keepdims=True))  # (batch_size, 1)\n",
    "    sum_of_square = tf.reduce_sum(tf.square(linear_terms), axis=1, keepdims=True)  # (batch_size, 1)\n",
    "    return 0.5 * (square_of_sum - sum_of_square)  # (batch_size, 1)\n",
    "\n",
    "interaction_term = Lambda(fm_interaction)(x_input)\n",
    "\n",
    "# 総和 + sigmoid\n",
    "output = tf.keras.layers.Add()([linear_output, interaction_term])\n",
    "output = Activation('sigmoid')(output)\n",
    "\n",
    "# モデル定義・学習\n",
    "model = Model(inputs=x_input, outputs=output)\n",
    "model.compile(optimizer='adam', loss='binary_crossentropy', metrics=['accuracy'])\n",
    "\n",
    "model.summary()\n"
   ]
  },
  {
   "cell_type": "code",
   "execution_count": 19,
   "id": "e8aa9912-2951-4aca-b1f8-4d741695e7b0",
   "metadata": {},
   "outputs": [
    {
     "name": "stdout",
     "output_type": "stream",
     "text": [
      "Epoch 1/5\n",
      "\u001b[1m697/697\u001b[0m \u001b[32m━━━━━━━━━━━━━━━━━━━━\u001b[0m\u001b[37m\u001b[0m \u001b[1m1s\u001b[0m 701us/step - accuracy: 0.5628 - loss: 0.6812 - val_accuracy: 0.6059 - val_loss: 0.6584\n",
      "Epoch 2/5\n",
      "\u001b[1m697/697\u001b[0m \u001b[32m━━━━━━━━━━━━━━━━━━━━\u001b[0m\u001b[37m\u001b[0m \u001b[1m0s\u001b[0m 571us/step - accuracy: 0.6407 - loss: 0.6472 - val_accuracy: 0.6611 - val_loss: 0.6366\n",
      "Epoch 3/5\n",
      "\u001b[1m697/697\u001b[0m \u001b[32m━━━━━━━━━━━━━━━━━━━━\u001b[0m\u001b[37m\u001b[0m \u001b[1m0s\u001b[0m 566us/step - accuracy: 0.6853 - loss: 0.6245 - val_accuracy: 0.6841 - val_loss: 0.6205\n",
      "Epoch 4/5\n",
      "\u001b[1m697/697\u001b[0m \u001b[32m━━━━━━━━━━━━━━━━━━━━\u001b[0m\u001b[37m\u001b[0m \u001b[1m0s\u001b[0m 570us/step - accuracy: 0.7005 - loss: 0.6079 - val_accuracy: 0.6907 - val_loss: 0.6085\n",
      "Epoch 5/5\n",
      "\u001b[1m697/697\u001b[0m \u001b[32m━━━━━━━━━━━━━━━━━━━━\u001b[0m\u001b[37m\u001b[0m \u001b[1m0s\u001b[0m 563us/step - accuracy: 0.7069 - loss: 0.5968 - val_accuracy: 0.6937 - val_loss: 0.5996\n",
      "\u001b[1m30/30\u001b[0m \u001b[32m━━━━━━━━━━━━━━━━━━━━\u001b[0m\u001b[37m\u001b[0m \u001b[1m0s\u001b[0m 913us/step - accuracy: 0.6898 - loss: 0.5920\n",
      "\n",
      "✅ FMモデル Test Accuracy: 0.6844\n"
     ]
    }
   ],
   "source": [
    "# -----------------------------\n",
    "# 学習・予測・評価\n",
    "# -----------------------------\n",
    "\n",
    "model.fit(X_train, y_train, epochs=5, batch_size=128, validation_split=0.1)\n",
    "\n",
    "loss, acc = model.evaluate(X_test, y_test)\n",
    "print(f\"\\n✅ FMモデル Test Accuracy: {acc:.4f}\")"
   ]
  },
  {
   "cell_type": "code",
   "execution_count": 20,
   "id": "e089844b-fbd4-4d9a-8a5e-0894fe4a3f16",
   "metadata": {},
   "outputs": [],
   "source": [
    "from collections import defaultdict\n",
    "\n",
    "n_negative = 99\n",
    "all_items = set(train_df['item'].unique())\n",
    "user_item_score = defaultdict(list)\n",
    "\n",
    "for user in test_df['user'].unique():\n",
    "    # 正解アイテム取得\n",
    "    gt_item = test_df[test_df['user'] == user].iloc[0]['item']\n",
    "\n",
    "    # 負例アイテムのランダムサンプリング\n",
    "    negatives = list(all_items - {gt_item})\n",
    "    sample_size = min(n_negative, len(negatives))\n",
    "    sampled_negatives = np.random.choice(negatives, size=sample_size, replace=False)\n",
    "\n",
    "    # 評価対象アイテム = 正解 + 負例\n",
    "    items_to_score = np.append(sampled_negatives, gt_item)\n",
    "\n",
    "    # One-Hot特徴量に変換\n",
    "    one_hot_input = enc.transform([[user, item] for item in items_to_score]).toarray()\n",
    "\n",
    "    # モデルスコアを計算\n",
    "    scores = model.predict(one_hot_input, verbose=0).flatten()\n",
    "\n",
    "    # 結果保存\n",
    "    user_item_score[user] = list(zip(items_to_score, scores))\n"
   ]
  },
  {
   "cell_type": "code",
   "execution_count": 21,
   "id": "75e28400-34d6-4b8c-8fd0-2a14cc8c5bf9",
   "metadata": {},
   "outputs": [],
   "source": [
    "# 推薦スコア計算（各ユーザーに対して正解+負例でスコア予測）\n",
    "# user_item_score = {user_id: [(item_id, score), ...]} がある前提\n",
    "\n",
    "# 推薦リスト（Top-10）\n",
    "recommendations = {\n",
    "    user: [item for item, _ in sorted(items, key=lambda x: x[1], reverse=True)[:10]]\n",
    "    for user, items in user_item_score.items()\n",
    "}\n",
    "\n",
    "# Ground truth（正解1件のみ）\n",
    "ground_truth = {\n",
    "    user: [test_df[test_df['user'] == user].iloc[0]['item']]\n",
    "    for user in user_item_score\n",
    "}"
   ]
  },
  {
   "cell_type": "code",
   "execution_count": 24,
   "id": "4e8c6fe6-fef5-44fd-a7d4-e93a15b25c39",
   "metadata": {},
   "outputs": [
    {
     "name": "stdout",
     "output_type": "stream",
     "text": [
      "=== FM モデル評価結果（Top-10）===\n",
      "Recall@10    : 0.2391\n",
      "Precision@10 : 0.0239\n",
      "NDCG@10      : 0.1260\n",
      "MRR@10       : 0.0921\n",
      "Hit@10       : 0.2391\n",
      "=== RecBole モデル評価結果（Top-10）===\n",
      "Recall@10    : 0.0553\n",
      "Precision@10 : 0.0611\n",
      "NDCG@10      : 0.0773\n",
      "MRR@10       : 0.1557\n",
      "Hit@10       : 0.3611\n"
     ]
    }
   ],
   "source": [
    "# 推薦結果と正解データを用意してある前提\n",
    "# recs: {user_id: [item1, item2, ..., item10]}\n",
    "# gt:   {user_id: item} or {user_id: [item]} ← 正解がリストの場合、1件に直す\n",
    "\n",
    "# 正解がリスト形式の場合、最初の1件だけを使う\n",
    "gt_single = {u: items[0] if isinstance(items, list) else items for u, items in ground_truth.items()}\n",
    "\n",
    "from Evaluation_index import recall_at_k, precision_at_k, ndcg_at_k, mrr_at_k, hit_at_k\n",
    "\n",
    "# 評価値の計算\n",
    "recall = recall_at_k(recommendations, gt_single, 10)\n",
    "precision = precision_at_k(recommendations, gt_single, 10)\n",
    "ndcg = ndcg_at_k(recommendations, gt_single, 10)\n",
    "mrr = mrr_at_k(recommendations, gt_single, 10)\n",
    "hit = hit_at_k(recommendations, gt_single, 10)\n",
    "\n",
    "# 結果表示\n",
    "print(\"=== FM モデル評価結果（Top-10）===\")\n",
    "print(f\"Recall@10    : {recall:.4f}\")\n",
    "print(f\"Precision@10 : {precision:.4f}\")\n",
    "print(f\"NDCG@10      : {ndcg:.4f}\")\n",
    "print(f\"MRR@10       : {mrr:.4f}\")\n",
    "print(f\"Hit@10       : {hit:.4f}\")\n",
    "\n",
    "print(\"=== RecBole モデル評価結果（Top-10）===\")\n",
    "print(f\"Recall@10    : 0.0553\")\n",
    "print(f\"Precision@10 : 0.0611\")\n",
    "print(f\"NDCG@10      : 0.0773\")\n",
    "print(f\"MRR@10       : 0.1557\")\n",
    "print(f\"Hit@10       : 0.3611\")"
   ]
  },
  {
   "cell_type": "code",
   "execution_count": null,
   "id": "4402e451-b70a-4584-a1cd-adfdae613867",
   "metadata": {},
   "outputs": [],
   "source": []
  }
 ],
 "metadata": {
  "kernelspec": {
   "display_name": "Python (py310-surprise)",
   "language": "python",
   "name": "py310-surprise"
  },
  "language_info": {
   "codemirror_mode": {
    "name": "ipython",
    "version": 3
   },
   "file_extension": ".py",
   "mimetype": "text/x-python",
   "name": "python",
   "nbconvert_exporter": "python",
   "pygments_lexer": "ipython3",
   "version": "3.10.13"
  }
 },
 "nbformat": 4,
 "nbformat_minor": 5
}
