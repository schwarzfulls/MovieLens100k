{
 "cells": [
  {
   "cell_type": "markdown",
   "id": "af80826c-ff50-463c-bf53-9b0c1af46647",
   "metadata": {},
   "source": [
    "- NGCFは．user * itemのグラフ構造を活用する\n",
    "- 1. user * itemIDの連番化(エンコード)\n",
    "  2. train dataからuser-itemペアのエッジを構築する\n",
    "  3. 評価指標関数"
   ]
  },
  {
   "cell_type": "code",
   "execution_count": 7,
   "id": "a005baee-613e-4961-b5d0-473debef757e",
   "metadata": {},
   "outputs": [],
   "source": [
    "# pytorch baseで実装する\n",
    "\n",
    "import pandas as pd\n",
    "from sklearn.preprocessing import LabelEncoder\n",
    "\n",
    "# データ読み込みと分割\n",
    "cols = ['user_id', 'item_id', 'rating', 'timestamp']\n",
    "df = pd.read_csv('u.data', sep='\\t', names=cols)\n",
    "df['timestamp'] = pd.to_datetime(df['timestamp'])\n",
    "\n",
    "# Leave-One-Out 分割\n",
    "df['rank'] = df.groupby('user_id')['timestamp'].rank(method='first', ascending=False)\n",
    "train_df = df[df['rank'] > 1].copy()\n",
    "test_df = df[df['rank'] == 1].copy()\n",
    "\n",
    "# ラベルエンコーディング (train のみで fit)\n",
    "user_enc = LabelEncoder()\n",
    "item_enc = LabelEncoder()\n",
    "train_df['user'] = user_enc.fit_transform(train_df['user_id'])\n",
    "train_df['item'] = item_enc.fit_transform(train_df['item_id'])\n",
    "\n",
    "# test に存在する user_id/item_id が train に存在するものだけにフィルター\n",
    "test_df = test_df[test_df['user_id'].isin(user_enc.classes_)]\n",
    "test_df = test_df[test_df['item_id'].isin(item_enc.classes_)].copy()\n",
    "\n",
    "# test に transform 適用（未出現値は既に除外されている）\n",
    "test_df['user'] = user_enc.transform(test_df['user_id'])\n",
    "test_df['item'] = item_enc.transform(test_df['item_id'])\n",
    "\n",
    "# ユーザー・アイテム数\n",
    "num_users = train_df['user'].nunique()\n",
    "num_items = train_df['item'].nunique()\n"
   ]
  },
  {
   "cell_type": "code",
   "execution_count": 8,
   "id": "b7907f82-30d8-4cf8-9643-b8bb964df1c5",
   "metadata": {},
   "outputs": [
    {
     "name": "stdout",
     "output_type": "stream",
     "text": [
      "train_df shape:  (99057, 7)\n",
      "user_id      0\n",
      "item_id      0\n",
      "rating       0\n",
      "timestamp    0\n",
      "rank         0\n",
      "user         0\n",
      "item         0\n",
      "dtype: int64\n"
     ]
    },
    {
     "data": {
      "text/html": [
       "<div>\n",
       "<style scoped>\n",
       "    .dataframe tbody tr th:only-of-type {\n",
       "        vertical-align: middle;\n",
       "    }\n",
       "\n",
       "    .dataframe tbody tr th {\n",
       "        vertical-align: top;\n",
       "    }\n",
       "\n",
       "    .dataframe thead th {\n",
       "        text-align: right;\n",
       "    }\n",
       "</style>\n",
       "<table border=\"1\" class=\"dataframe\">\n",
       "  <thead>\n",
       "    <tr style=\"text-align: right;\">\n",
       "      <th></th>\n",
       "      <th>user_id</th>\n",
       "      <th>item_id</th>\n",
       "      <th>rating</th>\n",
       "      <th>timestamp</th>\n",
       "      <th>rank</th>\n",
       "      <th>user</th>\n",
       "      <th>item</th>\n",
       "    </tr>\n",
       "  </thead>\n",
       "  <tbody>\n",
       "    <tr>\n",
       "      <th>0</th>\n",
       "      <td>196</td>\n",
       "      <td>242</td>\n",
       "      <td>3</td>\n",
       "      <td>1970-01-01 00:00:00.881250949</td>\n",
       "      <td>37.0</td>\n",
       "      <td>195</td>\n",
       "      <td>241</td>\n",
       "    </tr>\n",
       "    <tr>\n",
       "      <th>1</th>\n",
       "      <td>186</td>\n",
       "      <td>302</td>\n",
       "      <td>3</td>\n",
       "      <td>1970-01-01 00:00:00.891717742</td>\n",
       "      <td>19.0</td>\n",
       "      <td>185</td>\n",
       "      <td>301</td>\n",
       "    </tr>\n",
       "    <tr>\n",
       "      <th>2</th>\n",
       "      <td>22</td>\n",
       "      <td>377</td>\n",
       "      <td>1</td>\n",
       "      <td>1970-01-01 00:00:00.878887116</td>\n",
       "      <td>76.0</td>\n",
       "      <td>21</td>\n",
       "      <td>376</td>\n",
       "    </tr>\n",
       "    <tr>\n",
       "      <th>3</th>\n",
       "      <td>244</td>\n",
       "      <td>51</td>\n",
       "      <td>2</td>\n",
       "      <td>1970-01-01 00:00:00.880606923</td>\n",
       "      <td>61.0</td>\n",
       "      <td>243</td>\n",
       "      <td>50</td>\n",
       "    </tr>\n",
       "    <tr>\n",
       "      <th>4</th>\n",
       "      <td>166</td>\n",
       "      <td>346</td>\n",
       "      <td>1</td>\n",
       "      <td>1970-01-01 00:00:00.886397596</td>\n",
       "      <td>13.0</td>\n",
       "      <td>165</td>\n",
       "      <td>345</td>\n",
       "    </tr>\n",
       "  </tbody>\n",
       "</table>\n",
       "</div>"
      ],
      "text/plain": [
       "   user_id  item_id  rating                     timestamp  rank  user  item\n",
       "0      196      242       3 1970-01-01 00:00:00.881250949  37.0   195   241\n",
       "1      186      302       3 1970-01-01 00:00:00.891717742  19.0   185   301\n",
       "2       22      377       1 1970-01-01 00:00:00.878887116  76.0    21   376\n",
       "3      244       51       2 1970-01-01 00:00:00.880606923  61.0   243    50\n",
       "4      166      346       1 1970-01-01 00:00:00.886397596  13.0   165   345"
      ]
     },
     "execution_count": 8,
     "metadata": {},
     "output_type": "execute_result"
    }
   ],
   "source": [
    "print(\"train_df shape: \", train_df.shape)\n",
    "print(train_df.isnull().sum())\n",
    "train_df.head()"
   ]
  },
  {
   "cell_type": "code",
   "execution_count": 9,
   "id": "414cf4b2-f0f8-4760-ab77-b88ef29d7ffc",
   "metadata": {},
   "outputs": [
    {
     "name": "stdout",
     "output_type": "stream",
     "text": [
      "test_df shape:  (941, 7)\n",
      "user_id      0\n",
      "item_id      0\n",
      "rating       0\n",
      "timestamp    0\n",
      "rank         0\n",
      "user         0\n",
      "item         0\n",
      "dtype: int64\n"
     ]
    },
    {
     "data": {
      "text/html": [
       "<div>\n",
       "<style scoped>\n",
       "    .dataframe tbody tr th:only-of-type {\n",
       "        vertical-align: middle;\n",
       "    }\n",
       "\n",
       "    .dataframe tbody tr th {\n",
       "        vertical-align: top;\n",
       "    }\n",
       "\n",
       "    .dataframe thead th {\n",
       "        text-align: right;\n",
       "    }\n",
       "</style>\n",
       "<table border=\"1\" class=\"dataframe\">\n",
       "  <thead>\n",
       "    <tr style=\"text-align: right;\">\n",
       "      <th></th>\n",
       "      <th>user_id</th>\n",
       "      <th>item_id</th>\n",
       "      <th>rating</th>\n",
       "      <th>timestamp</th>\n",
       "      <th>rank</th>\n",
       "      <th>user</th>\n",
       "      <th>item</th>\n",
       "    </tr>\n",
       "  </thead>\n",
       "  <tbody>\n",
       "    <tr>\n",
       "      <th>52</th>\n",
       "      <td>260</td>\n",
       "      <td>322</td>\n",
       "      <td>4</td>\n",
       "      <td>1970-01-01 00:00:00.890618898</td>\n",
       "      <td>1.0</td>\n",
       "      <td>259</td>\n",
       "      <td>321</td>\n",
       "    </tr>\n",
       "    <tr>\n",
       "      <th>53</th>\n",
       "      <td>25</td>\n",
       "      <td>181</td>\n",
       "      <td>5</td>\n",
       "      <td>1970-01-01 00:00:00.885853415</td>\n",
       "      <td>1.0</td>\n",
       "      <td>24</td>\n",
       "      <td>180</td>\n",
       "    </tr>\n",
       "    <tr>\n",
       "      <th>70</th>\n",
       "      <td>189</td>\n",
       "      <td>512</td>\n",
       "      <td>4</td>\n",
       "      <td>1970-01-01 00:00:00.893277702</td>\n",
       "      <td>1.0</td>\n",
       "      <td>188</td>\n",
       "      <td>511</td>\n",
       "    </tr>\n",
       "    <tr>\n",
       "      <th>109</th>\n",
       "      <td>265</td>\n",
       "      <td>118</td>\n",
       "      <td>4</td>\n",
       "      <td>1970-01-01 00:00:00.875320714</td>\n",
       "      <td>1.0</td>\n",
       "      <td>264</td>\n",
       "      <td>117</td>\n",
       "    </tr>\n",
       "    <tr>\n",
       "      <th>167</th>\n",
       "      <td>155</td>\n",
       "      <td>323</td>\n",
       "      <td>2</td>\n",
       "      <td>1970-01-01 00:00:00.879371261</td>\n",
       "      <td>1.0</td>\n",
       "      <td>154</td>\n",
       "      <td>322</td>\n",
       "    </tr>\n",
       "  </tbody>\n",
       "</table>\n",
       "</div>"
      ],
      "text/plain": [
       "     user_id  item_id  rating                     timestamp  rank  user  item\n",
       "52       260      322       4 1970-01-01 00:00:00.890618898   1.0   259   321\n",
       "53        25      181       5 1970-01-01 00:00:00.885853415   1.0    24   180\n",
       "70       189      512       4 1970-01-01 00:00:00.893277702   1.0   188   511\n",
       "109      265      118       4 1970-01-01 00:00:00.875320714   1.0   264   117\n",
       "167      155      323       2 1970-01-01 00:00:00.879371261   1.0   154   322"
      ]
     },
     "execution_count": 9,
     "metadata": {},
     "output_type": "execute_result"
    }
   ],
   "source": [
    "print(\"test_df shape: \", test_df.shape)\n",
    "print(test_df.isnull().sum())\n",
    "test_df.head()"
   ]
  },
  {
   "cell_type": "code",
   "execution_count": 10,
   "id": "0f92136c-523a-4dcb-9fa5-2ba99a2f13d6",
   "metadata": {},
   "outputs": [],
   "source": [
    "# グラフデータ構築\n",
    "\n",
    "import torch\n",
    "from scipy.sparse import coo_matrix\n",
    "\n",
    "edges = torch.tensor(train_df[['user', 'item']].values).T\n",
    "values = torch.ones(edges.size(1))\n",
    "\n",
    "adj = coo_matrix((values, (edges[0], edges[1] + num_users)), shape=(num_users + num_items, num_users + num_items))\n",
    "adj = adj + adj.T  # 対称行列にする\n"
   ]
  },
  {
   "cell_type": "code",
   "execution_count": 11,
   "id": "e6899702-06b2-454f-9345-2c02c3fca81b",
   "metadata": {},
   "outputs": [
    {
     "data": {
      "text/plain": [
       "scipy.sparse._csr.csr_matrix"
      ]
     },
     "execution_count": 11,
     "metadata": {},
     "output_type": "execute_result"
    }
   ],
   "source": [
    "type(adj)"
   ]
  },
  {
   "cell_type": "code",
   "execution_count": 13,
   "id": "a4bfe55b-2b78-4da8-886c-5ece87693ed0",
   "metadata": {},
   "outputs": [
    {
     "data": {
      "text/plain": [
       "<Compressed Sparse Row sparse matrix of dtype 'float32'\n",
       "\twith 198114 stored elements and shape (2623, 2623)>"
      ]
     },
     "execution_count": 13,
     "metadata": {},
     "output_type": "execute_result"
    }
   ],
   "source": [
    "adj"
   ]
  },
  {
   "cell_type": "code",
   "execution_count": 14,
   "id": "9b8a1657-fbb6-4a27-bca2-df9ac1ea6716",
   "metadata": {},
   "outputs": [],
   "source": [
    "# NDCGモデル定義\n",
    "\n",
    "import torch.nn as nn\n",
    "import torch.nn.functional as F\n",
    "\n",
    "class NGCF(nn.Module):\n",
    "    def __init__(self, num_users, num_items, embedding_dim=64):\n",
    "        super().__init__()\n",
    "        self.user_embedding = nn.Embedding(num_users, embedding_dim)\n",
    "        self.item_embedding = nn.Embedding(num_items, embedding_dim)\n",
    "        self.W1 = nn.Linear(embedding_dim, embedding_dim)\n",
    "        self.W2 = nn.Linear(embedding_dim, embedding_dim)\n",
    "\n",
    "    def forward(self, adj_matrix):\n",
    "        x = torch.cat([self.user_embedding.weight, self.item_embedding.weight], dim=0)\n",
    "        out = torch.sparse.mm(adj_matrix, x)\n",
    "        out = F.relu(self.W1(out))\n",
    "        out = self.W2(out)\n",
    "        return out\n"
   ]
  },
  {
   "cell_type": "code",
   "execution_count": 15,
   "id": "e5d19dcc-51d1-4139-81b0-2ca911775ff0",
   "metadata": {},
   "outputs": [],
   "source": [
    "# 推薦と評価\n",
    "\n",
    "# 埋め込みを取得\n",
    "model = NGCF(num_users, num_items)\n",
    "adj_tensor = torch.tensor(adj.todense(), dtype=torch.float32)\n",
    "embeddings = model(adj_tensor)\n",
    "\n",
    "user_emb = embeddings[:num_users]\n",
    "item_emb = embeddings[num_users:]\n",
    "\n",
    "# ユーザーごとにTop-10推薦\n",
    "scores = torch.matmul(user_emb, item_emb.T)\n",
    "top_k = torch.topk(scores, k=10, dim=1).indices\n",
    "\n",
    "# 推薦辞書作成\n",
    "recommendations = {user: top_k[user].tolist() for user in test_df['user'].unique()}\n",
    "ground_truth = test_df.set_index('user')['item'].to_dict()\n"
   ]
  },
  {
   "cell_type": "code",
   "execution_count": 16,
   "id": "1c4419df-d472-48aa-b8c3-61c24c064877",
   "metadata": {},
   "outputs": [
    {
     "name": "stdout",
     "output_type": "stream",
     "text": [
      "=== NGCF モデル評価結果（Top-10）===\n",
      "Recall@10    : 0.0308\n",
      "Precision@10 : 0.0031\n",
      "NDCG@10      : 0.0157\n",
      "MRR@10       : 0.0113\n",
      "Hit@10       : 0.0308\n",
      "=== RecBole モデル評価結果（Top-10）===\n",
      "Recall@10    : 0.0581\n",
      "Precision@10 : 0.0647\n",
      "NDCG@10      : 0.0813\n",
      "MRR@10       : 0.1616\n",
      "Hit@10       : 0.3745\n"
     ]
    }
   ],
   "source": [
    "from Evaluation_index import recall_at_k, precision_at_k, ndcg_at_k, mrr_at_k, hit_at_k\n",
    "\n",
    "k = 10\n",
    "print(\"=== NGCF モデル評価結果（Top-10）===\")\n",
    "print(f\"Recall@10    : {recall_at_k(recommendations, ground_truth, k):.4f}\")\n",
    "print(f\"Precision@10 : {precision_at_k(recommendations, ground_truth, k):.4f}\")\n",
    "print(f\"NDCG@10      : {ndcg_at_k(recommendations, ground_truth, k):.4f}\")\n",
    "print(f\"MRR@10       : {mrr_at_k(recommendations, ground_truth, k):.4f}\")\n",
    "print(f\"Hit@10       : {hit_at_k(recommendations, ground_truth, k):.4f}\")\n",
    "\n",
    "print(\"=== RecBole モデル評価結果（Top-10）===\")\n",
    "print(f\"Recall@10    : {0.0581:.4f}\")\n",
    "print(f\"Precision@10 : {0.0647:.4f}\")\n",
    "print(f\"NDCG@10      : {0.0813:.4f}\")\n",
    "print(f\"MRR@10       : {0.1616:.4f}\")\n",
    "print(f\"Hit@10       : {0.3745:.4f}\")\n"
   ]
  },
  {
   "cell_type": "code",
   "execution_count": null,
   "id": "c30785d0-5f52-4043-b512-1b50ded816e1",
   "metadata": {},
   "outputs": [],
   "source": []
  }
 ],
 "metadata": {
  "kernelspec": {
   "display_name": "Python (py310-surprise)",
   "language": "python",
   "name": "py310-surprise"
  },
  "language_info": {
   "codemirror_mode": {
    "name": "ipython",
    "version": 3
   },
   "file_extension": ".py",
   "mimetype": "text/x-python",
   "name": "python",
   "nbconvert_exporter": "python",
   "pygments_lexer": "ipython3",
   "version": "3.10.13"
  }
 },
 "nbformat": 4,
 "nbformat_minor": 5
}
